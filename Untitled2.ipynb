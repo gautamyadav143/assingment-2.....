{
 "cells": [
  {
   "cell_type": "code",
   "execution_count": 1,
   "id": "907b07e7-2fca-4d5d-8f98-5a68709023f7",
   "metadata": {},
   "outputs": [],
   "source": [
    "x=5"
   ]
  },
  {
   "cell_type": "code",
   "execution_count": 2,
   "id": "e77ebb7a-060b-4d19-ac1e-7681f49e6b50",
   "metadata": {},
   "outputs": [],
   "source": [
    "y=3"
   ]
  },
  {
   "cell_type": "code",
   "execution_count": 3,
   "id": "6dc12311-8f6c-440b-9623-184d131dcb48",
   "metadata": {},
   "outputs": [],
   "source": [
    "x=y"
   ]
  },
  {
   "cell_type": "code",
   "execution_count": 4,
   "id": "c6293f42-494f-42b4-9098-cca1c183b745",
   "metadata": {},
   "outputs": [],
   "source": [
    "y=x+2"
   ]
  },
  {
   "cell_type": "code",
   "execution_count": 5,
   "id": "14cae3cb-2001-4840-a8bf-845c7901c992",
   "metadata": {},
   "outputs": [
    {
     "name": "stdout",
     "output_type": "stream",
     "text": [
      "3 5\n"
     ]
    }
   ],
   "source": [
    "print(x,y)"
   ]
  },
  {
   "cell_type": "code",
   "execution_count": 6,
   "id": "89058d8c-4338-4440-8e59-8c8faa6abb0a",
   "metadata": {},
   "outputs": [
    {
     "name": "stdout",
     "output_type": "stream",
     "text": [
      "2 0\n"
     ]
    }
   ],
   "source": [
    "a = 10\n",
    "\n",
    "b = 5\n",
    "\n",
    "c = a // b\n",
    "\n",
    "d = a % b\n",
    "\n",
    "print(c, d)"
   ]
  },
  {
   "cell_type": "code",
   "execution_count": 7,
   "id": "103c8423-8600-4011-92ac-92a5fbb0ffcc",
   "metadata": {},
   "outputs": [
    {
     "name": "stdout",
     "output_type": "stream",
     "text": [
      "3 5\n"
     ]
    }
   ],
   "source": [
    "x = 5\n",
    "\n",
    "y = 3\n",
    "\n",
    "x = y\n",
    "\n",
    "y = x + 2\n",
    "\n",
    "print(x, y)"
   ]
  },
  {
   "cell_type": "code",
   "execution_count": 8,
   "id": "dda94a4c-3bfd-4dc2-8c6e-e82f04313ffb",
   "metadata": {},
   "outputs": [
    {
     "name": "stdout",
     "output_type": "stream",
     "text": [
      "10\n"
     ]
    }
   ],
   "source": [
    "x = 5\n",
    "\n",
    "y = 10\n",
    "\n",
    "x = y\n",
    "\n",
    "y = 20\n",
    "\n",
    "print(x)"
   ]
  },
  {
   "cell_type": "code",
   "execution_count": 9,
   "id": "1907b936-62b4-439f-9356-3f347200bd61",
   "metadata": {},
   "outputs": [
    {
     "name": "stdout",
     "output_type": "stream",
     "text": [
      "y is greater\n"
     ]
    }
   ],
   "source": [
    "x = 5\n",
    "\n",
    "y = 10\n",
    "\n",
    "if x > y:\n",
    "\n",
    "    print(\"x is greater\")\n",
    "\n",
    "else:\n",
    "\n",
    "    print(\"y is greater\")"
   ]
  },
  {
   "cell_type": "code",
   "execution_count": 10,
   "id": "2e1344d5-9957-4a55-9329-dc6efc31d26a",
   "metadata": {},
   "outputs": [
    {
     "name": "stdout",
     "output_type": "stream",
     "text": [
      "15\n"
     ]
    }
   ],
   "source": [
    "sum = 0\n",
    "\n",
    "for i in range(1, 6):\n",
    "\n",
    "    sum += i\n",
    "\n",
    "print(sum)"
   ]
  },
  {
   "cell_type": "code",
   "execution_count": 11,
   "id": "7538519b-d594-4367-b633-83a7df459f7a",
   "metadata": {},
   "outputs": [
    {
     "name": "stdout",
     "output_type": "stream",
     "text": [
      "0\n",
      "1\n",
      "2\n",
      "3\n",
      "4\n"
     ]
    }
   ],
   "source": [
    "count = 0\n",
    "\n",
    "while count < 5:\n",
    "\n",
    "    print(count)\n",
    "\n",
    "    count += 1"
   ]
  },
  {
   "cell_type": "code",
   "execution_count": 12,
   "id": "28039055-478e-4ba5-a0ef-f02a98855ae6",
   "metadata": {},
   "outputs": [
    {
     "name": "stdout",
     "output_type": "stream",
     "text": [
      "x is greater than 5\n"
     ]
    }
   ],
   "source": [
    "x = 10\n",
    "\n",
    "if x > 5:\n",
    "\n",
    "    print(\"x is greater than 5\")\n",
    "\n",
    "elif x == 5:\n",
    "\n",
    "    print(\"x is equal to 5\")\n",
    "\n",
    "else:\n",
    "\n",
    "    print(\"x is less than 5\")"
   ]
  },
  {
   "cell_type": "code",
   "execution_count": 13,
   "id": "738a2d01-73c6-4752-bfe8-54573d27d13e",
   "metadata": {},
   "outputs": [
    {
     "name": "stdout",
     "output_type": "stream",
     "text": [
      "[1, 2, 3, 4]\n",
      "Object `code` not found.\n"
     ]
    }
   ],
   "source": [
    "my_list = [1, 2, 3]\n",
    "\n",
    "new_list = my_list\n",
    "\n",
    "new_list.append(4)\n",
    "\n",
    "print(my_list)\n",
    "\n",
    "What will be the output of the above code?"
   ]
  },
  {
   "cell_type": "code",
   "execution_count": 14,
   "id": "ed3dfcf3-f3c3-48b7-8d27-95f14a7735af",
   "metadata": {},
   "outputs": [
    {
     "data": {
      "text/plain": [
       "1"
      ]
     },
     "execution_count": 14,
     "metadata": {},
     "output_type": "execute_result"
    }
   ],
   "source": [
    "10%3"
   ]
  },
  {
   "cell_type": "code",
   "execution_count": 15,
   "id": "08be8c93-fb45-4d64-8132-ab491dcf3d96",
   "metadata": {},
   "outputs": [
    {
     "ename": "SyntaxError",
     "evalue": "invalid syntax (4150421822.py, line 1)",
     "output_type": "error",
     "traceback": [
      "\u001b[0;36m  Cell \u001b[0;32mIn[15], line 1\u001b[0;36m\u001b[0m\n\u001b[0;31m    type(>=)\u001b[0m\n\u001b[0m         ^\u001b[0m\n\u001b[0;31mSyntaxError\u001b[0m\u001b[0;31m:\u001b[0m invalid syntax\n"
     ]
    }
   ],
   "source": []
  },
  {
   "cell_type": "code",
   "execution_count": 19,
   "id": "43697b4c-f403-4596-97f7-976468525ae3",
   "metadata": {},
   "outputs": [
    {
     "name": "stdout",
     "output_type": "stream",
     "text": [
      "x is grater then \n"
     ]
    }
   ],
   "source": [
    "x = 5\n",
    "\n",
    "y = 2\n",
    "\n",
    "if x>y:\n",
    "    print(\"x is grater then \")\n",
    "elif x < y: \n",
    "    print('x is less then y')\n",
    "else :\n",
    "    print ( \"x is equal to y\")"
   ]
  },
  {
   "cell_type": "code",
   "execution_count": 1,
   "id": "3d291ad6-75a6-4580-8cb8-337743f981b1",
   "metadata": {},
   "outputs": [],
   "source": [
    "for i in range (5):\n",
    "    if i == 2:\n",
    "        continue \n",
    "        print(i)"
   ]
  },
  {
   "cell_type": "code",
   "execution_count": null,
   "id": "d3136c4f-aae1-41ea-a0da-05cf6f5b4cbb",
   "metadata": {},
   "outputs": [],
   "source": []
  },
  {
   "cell_type": "code",
   "execution_count": null,
   "id": "d73c8e82-0d0a-4470-98e8-844d3bdc8880",
   "metadata": {},
   "outputs": [],
   "source": []
  }
 ],
 "metadata": {
  "kernelspec": {
   "display_name": "Python 3 (ipykernel)",
   "language": "python",
   "name": "python3"
  },
  "language_info": {
   "codemirror_mode": {
    "name": "ipython",
    "version": 3
   },
   "file_extension": ".py",
   "mimetype": "text/x-python",
   "name": "python",
   "nbconvert_exporter": "python",
   "pygments_lexer": "ipython3",
   "version": "3.10.8"
  }
 },
 "nbformat": 4,
 "nbformat_minor": 5
}
